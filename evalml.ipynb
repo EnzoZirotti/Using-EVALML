{
 "cells": [
  {
   "cell_type": "markdown",
   "metadata": {},
   "source": [
    "How you can use EvalML to automatically find the best pipeline for predicting whether or not a credit card transaction is fradulent."
   ]
  },
  {
   "cell_type": "code",
   "execution_count": 9,
   "metadata": {},
   "outputs": [],
   "source": [
    "#import dependencies \n",
    "import evalml\n",
    "from evalml import AutoMLSearch\n",
    "from evalml.utils import infer_feature_types\n",
    "import woodwork as ww\n",
    "\n"
   ]
  },
  {
   "cell_type": "code",
   "execution_count": 10,
   "metadata": {},
   "outputs": [
    {
     "name": "stdout",
     "output_type": "stream",
     "text": [
      "             Number of Features\n",
      "Boolean                       1\n",
      "Categorical                   6\n",
      "Numeric                       5\n",
      "\n",
      "Number of training examples: 250\n",
      "Targets\n",
      "False    88.40%\n",
      "True     11.60%\n",
      "Name: fraud, dtype: object\n"
     ]
    }
   ],
   "source": [
    "#pulling in demo data.\n",
    "X, y = evalml.demos.load_fraud(n_rows=250)"
   ]
  },
  {
   "cell_type": "code",
   "execution_count": 11,
   "metadata": {},
   "outputs": [
    {
     "data": {
      "text/plain": [
       "<Series: fraud (Physical Type = bool) (Logical Type = Boolean) (Semantic Tags = set())>"
      ]
     },
     "execution_count": 11,
     "metadata": {},
     "output_type": "execute_result"
    }
   ],
   "source": [
    "#To check the X or y add .ww for the woodwork multidementional data typing\n",
    "X.ww\n",
    "#Or \n",
    "y.ww"
   ]
  },
  {
   "cell_type": "code",
   "execution_count": 12,
   "metadata": {},
   "outputs": [
    {
     "data": {
      "text/html": [
       "<table border=\"1\" class=\"dataframe\">\n",
       "  <thead>\n",
       "    <tr style=\"text-align: right;\">\n",
       "      <th></th>\n",
       "      <th>Physical Type</th>\n",
       "      <th>Logical Type</th>\n",
       "      <th>Semantic Tag(s)</th>\n",
       "    </tr>\n",
       "    <tr>\n",
       "      <th>Column</th>\n",
       "      <th></th>\n",
       "      <th></th>\n",
       "      <th></th>\n",
       "    </tr>\n",
       "  </thead>\n",
       "  <tbody>\n",
       "    <tr>\n",
       "      <th>card_id</th>\n",
       "      <td>int64</td>\n",
       "      <td>Integer</td>\n",
       "      <td>['numeric']</td>\n",
       "    </tr>\n",
       "    <tr>\n",
       "      <th>store_id</th>\n",
       "      <td>int64</td>\n",
       "      <td>Integer</td>\n",
       "      <td>['numeric']</td>\n",
       "    </tr>\n",
       "    <tr>\n",
       "      <th>datetime</th>\n",
       "      <td>datetime64[ns]</td>\n",
       "      <td>Datetime</td>\n",
       "      <td>[]</td>\n",
       "    </tr>\n",
       "    <tr>\n",
       "      <th>amount</th>\n",
       "      <td>int64</td>\n",
       "      <td>Integer</td>\n",
       "      <td>['numeric']</td>\n",
       "    </tr>\n",
       "    <tr>\n",
       "      <th>currency</th>\n",
       "      <td>string</td>\n",
       "      <td>Unknown</td>\n",
       "      <td>[]</td>\n",
       "    </tr>\n",
       "    <tr>\n",
       "      <th>customer_present</th>\n",
       "      <td>bool</td>\n",
       "      <td>Boolean</td>\n",
       "      <td>[]</td>\n",
       "    </tr>\n",
       "    <tr>\n",
       "      <th>expiration_date</th>\n",
       "      <td>datetime64[ns]</td>\n",
       "      <td>Datetime</td>\n",
       "      <td>[]</td>\n",
       "    </tr>\n",
       "    <tr>\n",
       "      <th>provider</th>\n",
       "      <td>category</td>\n",
       "      <td>Categorical</td>\n",
       "      <td>['category']</td>\n",
       "    </tr>\n",
       "    <tr>\n",
       "      <th>lat</th>\n",
       "      <td>float64</td>\n",
       "      <td>Double</td>\n",
       "      <td>['numeric']</td>\n",
       "    </tr>\n",
       "    <tr>\n",
       "      <th>lng</th>\n",
       "      <td>float64</td>\n",
       "      <td>Double</td>\n",
       "      <td>['numeric']</td>\n",
       "    </tr>\n",
       "    <tr>\n",
       "      <th>region</th>\n",
       "      <td>category</td>\n",
       "      <td>Categorical</td>\n",
       "      <td>['category']</td>\n",
       "    </tr>\n",
       "    <tr>\n",
       "      <th>country</th>\n",
       "      <td>category</td>\n",
       "      <td>Categorical</td>\n",
       "      <td>['category']</td>\n",
       "    </tr>\n",
       "  </tbody>\n",
       "</table>"
      ],
      "text/plain": [
       "                   Physical Type Logical Type Semantic Tag(s)\n",
       "Column                                                       \n",
       "card_id                    int64      Integer     ['numeric']\n",
       "store_id                   int64      Integer     ['numeric']\n",
       "datetime          datetime64[ns]     Datetime              []\n",
       "amount                     int64      Integer     ['numeric']\n",
       "currency                  string      Unknown              []\n",
       "customer_present            bool      Boolean              []\n",
       "expiration_date   datetime64[ns]     Datetime              []\n",
       "provider                category  Categorical    ['category']\n",
       "lat                      float64       Double     ['numeric']\n",
       "lng                      float64       Double     ['numeric']\n",
       "region                  category  Categorical    ['category']\n",
       "country                 category  Categorical    ['category']"
      ]
     },
     "execution_count": 12,
     "metadata": {},
     "output_type": "execute_result"
    }
   ],
   "source": [
    "#Now to reformat the table \n",
    "X.ww[\"expiration_date\"] = X[\"expiration_date\"].apply(\n",
    "    lambda x: \"20{}-01-{}\".format(x.split(\"/\")[1], x.split(\"/\")[0])\n",
    ")\n",
    "X = infer_feature_types(X,\n",
    "                        feature_types={\n",
    "                            \"store_id\":\"categorical\",\n",
    "                            \"expiration_date\":\"datetime\",\n",
    "                            \"lat\":\"categorical\",\n",
    "                            \"long\":\"categorical\",\n",
    "                            \"provider\":\"categorical\",\n",
    "                        },\n",
    "                        )\n",
    "X.ww"
   ]
  },
  {
   "cell_type": "code",
   "execution_count": 14,
   "metadata": {},
   "outputs": [],
   "source": [
    "# To validate the result of the pipeline creation save some of the data as a holdout set\n",
    "X_train, X_holdout, y_train, y_holdout = evalml.preprocessing.split_data(\n",
    "    X,y, problem_type=\"binary\", test_size=0.2\n",
    ")"
   ]
  }
 ],
 "metadata": {
  "kernelspec": {
   "display_name": "Test",
   "language": "python",
   "name": "python3"
  },
  "language_info": {
   "codemirror_mode": {
    "name": "ipython",
    "version": 3
   },
   "file_extension": ".py",
   "mimetype": "text/x-python",
   "name": "python",
   "nbconvert_exporter": "python",
   "pygments_lexer": "ipython3",
   "version": "3.8.18"
  }
 },
 "nbformat": 4,
 "nbformat_minor": 2
}
